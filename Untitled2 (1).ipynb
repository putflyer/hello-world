{
 "cells": [
  {
   "cell_type": "code",
   "execution_count": null,
   "metadata": {},
   "outputs": [],
   "source": [
    "name_inputer = input(\"What is your name?\")\n",
    "\n",
    "income_input = input(\"What is your income?\")\n",
    "\n",
    "tax_modifier = 0.15\n",
    "income = float(income_input)\n",
    "tax = income*tax_modifier\n",
    "final = income - tax\n",
    "printing = str(final)\n",
    "print ('Your income after tax is: ' + printing)"
   ]
  }
 ],
 "metadata": {
  "kernelspec": {
   "display_name": "Python 3",
   "language": "python",
   "name": "python3"
  },
  "language_info": {
   "codemirror_mode": {
    "name": "ipython",
    "version": 3
   },
   "file_extension": ".py",
   "mimetype": "text/x-python",
   "name": "python",
   "nbconvert_exporter": "python",
   "pygments_lexer": "ipython3",
   "version": "3.8.3"
  }
 },
 "nbformat": 4,
 "nbformat_minor": 4
}
